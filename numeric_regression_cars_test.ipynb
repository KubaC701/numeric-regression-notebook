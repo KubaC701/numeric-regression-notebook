{
 "cells": [
  {
   "cell_type": "code",
   "execution_count": 92,
   "metadata": {},
   "outputs": [],
   "source": [
    "import pandas as pd\n",
    "import pickle\n",
    "import unittest\n"
   ]
  },
  {
   "cell_type": "code",
   "execution_count": 93,
   "metadata": {},
   "outputs": [],
   "source": [
    "\n",
    "with open('dwarf_classifier_model.pickle', 'rb') as handle:\n",
    "  clf = pickle.load(handle)\n"
   ]
  },
  {
   "cell_type": "code",
   "execution_count": 94,
   "metadata": {},
   "outputs": [
    {
     "data": {
      "text/plain": [
       "array([30061.42])"
      ]
     },
     "execution_count": 94,
     "metadata": {},
     "output_type": "execute_result"
    }
   ],
   "source": [
    "# expected value: 18480\n",
    "clf.predict([[0, 50, 2019, 3, 0, 5, 1.5, 6.7, 4, 1, 1, 7]])\n"
   ]
  },
  {
   "cell_type": "code",
   "execution_count": null,
   "metadata": {},
   "outputs": [],
   "source": []
  },
  {
   "cell_type": "code",
   "execution_count": 95,
   "metadata": {},
   "outputs": [],
   "source": [
    "class NormalizeData:\n",
    "  def __init__(self, data):\n",
    "    self.data = data\n",
    "\n",
    "  def remove_dashes(self):\n",
    "    self.data = self.data.replace('-', 0)\n",
    "    return self\n",
    "\n",
    "  def parse_float(self, field):\n",
    "    self.data[field] = self.data[field].astype(float)\n",
    "    return self\n",
    "\n",
    "  def remove_string(self, field, string_to_remove):\n",
    "    self.data[field] = self.data[field].str.replace(string_to_remove, '')\n",
    "    return self\n",
    "\n",
    "  def remove_outliers(self, condition):\n",
    "    self.data = self.data.drop(self.data[condition].index)\n",
    "    return self\n",
    "\n",
    "  def remove_fields(self, fields):\n",
    "    self.data = self.data.drop(fields, axis=1)\n",
    "    return self\n"
   ]
  },
  {
   "cell_type": "code",
   "execution_count": 96,
   "metadata": {},
   "outputs": [],
   "source": [
    "\n",
    "\n",
    "class TestNormalizeData(unittest.TestCase):\n",
    "\n",
    "  def remove_dashes(self):\n",
    "    test_data = pd.DataFrame({'price': [0, '-', 2, 5]})\n",
    "    normalize = NormalizeData(test_data)\n",
    "    prices = normalize.remove_dashes().data['price'].tolist()\n",
    "    self.assertListEqual([0, 0, 2, 5], prices)\n",
    "\n",
    "  def parse_float(self):\n",
    "    test_data = pd.DataFrame({'price': [0, 0, 2, '5', '11.5']})\n",
    "    normalize = NormalizeData(test_data)\n",
    "    prices = normalize.parse_float('price').data['price'].tolist()\n",
    "    self.assertListEqual([0.0, 0.0, 2.0, 5.0, 11.5], prices)\n",
    "\n",
    "  def remove_string(self):\n",
    "    test_data = pd.DataFrame({'price': ['2 km', '5', '11.5 km']})\n",
    "    normalize = NormalizeData(test_data)\n",
    "    prices = normalize.remove_string('price', ' km').data['price'].tolist()\n",
    "    self.assertListEqual(['2', '5', '11.5'], prices)\n",
    "\n",
    "  def remove_outliers(self):\n",
    "    test_data = pd.DataFrame({'price': [10, 0, 2, 5, 11.5]})\n",
    "    normalize = NormalizeData(test_data)\n",
    "\n",
    "    prices = normalize.remove_outliers(\n",
    "        test_data['price'] > 10).data['price'].tolist()\n",
    "    self.assertListEqual([10, 0, 2, 5], prices)\n",
    "\n",
    "  def remove_fields(self):\n",
    "    test_data = pd.DataFrame({'price': [10, 0, 2, 5, 11.5]})\n",
    "    normalize = NormalizeData(test_data)\n",
    "\n",
    "    prices = normalize.remove_fields(['price']).data.columns.tolist()\n",
    "    self.assertListEqual([], prices)\n",
    "\n",
    "\n",
    "test = TestNormalizeData()\n",
    "test.remove_dashes()\n",
    "test.parse_float()\n",
    "test.remove_string()\n",
    "test.remove_outliers()\n",
    "test.remove_fields()\n"
   ]
  }
 ],
 "metadata": {
  "kernelspec": {
   "display_name": "Python 3",
   "language": "python",
   "name": "python3"
  },
  "language_info": {
   "codemirror_mode": {
    "name": "ipython",
    "version": 3
   },
   "file_extension": ".py",
   "mimetype": "text/x-python",
   "name": "python",
   "nbconvert_exporter": "python",
   "pygments_lexer": "ipython3",
   "version": "3.10.4"
  },
  "orig_nbformat": 4,
  "vscode": {
   "interpreter": {
    "hash": "aee8b7b246df8f9039afb4144a1f6fd8d2ca17a180786b69acc140d282b71a49"
   }
  }
 },
 "nbformat": 4,
 "nbformat_minor": 2
}
